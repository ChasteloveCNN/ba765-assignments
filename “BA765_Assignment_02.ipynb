{
  "nbformat": 4,
  "nbformat_minor": 0,
  "metadata": {
    "colab": {
      "name": "“BA765_Assignment_02.ipynb",
      "provenance": [],
      "collapsed_sections": [],
      "include_colab_link": true
    },
    "kernelspec": {
      "name": "python3",
      "display_name": "Python 3"
    }
  },
  "cells": [
    {
      "cell_type": "markdown",
      "metadata": {
        "id": "view-in-github",
        "colab_type": "text"
      },
      "source": [
        "<a href=\"https://colab.research.google.com/github/ChasteloveCNN/ba765-assignments/blob/main/%E2%80%9CBA765_Assignment_02.ipynb\" target=\"_parent\"><img src=\"https://colab.research.google.com/assets/colab-badge.svg\" alt=\"Open In Colab\"/></a>"
      ]
    },
    {
      "cell_type": "markdown",
      "metadata": {
        "id": "mzv8h94p1lp9"
      },
      "source": [
        "# Assignment 2\n",
        "\n",
        "Complete the questions below by answering each question using the appropriate variable name. Do not change the variable names.  \n",
        "\n",
        "To keep the file sizes small, I provide you with very low volume of data, but this does not mean you should use visual inspection. For example, if the maximum value of a list is asked, find it via code, not via visual inspection. \n",
        "\n",
        "Once you completed this assignment, upload the notebook to your GitHub repository (same one that you used for assignment 1) and export your work also as `a2.py` (with this name and format) and submit to QuestromTools course site.\n",
        "\n",
        "ENJOY!"
      ]
    },
    {
      "cell_type": "markdown",
      "metadata": {
        "id": "81VWGDeE2Khh"
      },
      "source": [
        "# Question 1:\n"
      ]
    },
    {
      "cell_type": "code",
      "metadata": {
        "id": "6S3uH33EH4k6"
      },
      "source": [
        "# STARTER CODE\n",
        "\n",
        "# imports\n",
        "import requests\n",
        "\n",
        "# the URL\n",
        "URL = \"https://www.metaweather.com/api/location/search/?query=boston\"\n",
        "\n",
        "# the API response setup for this question\n",
        "resp = requests.get(URL).json()"
      ],
      "execution_count": null,
      "outputs": []
    },
    {
      "cell_type": "code",
      "metadata": {
        "id": "By9Oc7syIW4u",
        "colab": {
          "base_uri": "https://localhost:8080/"
        },
        "outputId": "17caeca0-72f0-453d-921a-ab1f508c30c9"
      },
      "source": [
        "# Q1:  save a variable q1_1, which _extracts_ the dictionary from the variable resp provided\n",
        "#      to you in the starter code for Question 1\n",
        "print(resp)\n",
        "q1_1=resp[0]\n",
        "print(q1_1)\n",
        "\n",
        "\n",
        "\n"
      ],
      "execution_count": null,
      "outputs": [
        {
          "output_type": "stream",
          "text": [
            "[{'title': 'Boston', 'location_type': 'City', 'woeid': 2367105, 'latt_long': '42.358631,-71.056702'}]\n",
            "{'title': 'Boston', 'location_type': 'City', 'woeid': 2367105, 'latt_long': '42.358631,-71.056702'}\n"
          ],
          "name": "stdout"
        }
      ]
    },
    {
      "cell_type": "code",
      "metadata": {
        "id": "g-7uAzeFI0_f",
        "colab": {
          "base_uri": "https://localhost:8080/"
        },
        "outputId": "25c7958f-f483-45b7-b752-f592138cf43c"
      },
      "source": [
        "# Q2: In the variable q1_2, save the keys of the dictionary in q1 as a list\n",
        "q1_2=list(q1_1.keys())\n",
        "print(q1_2)\n",
        "\n"
      ],
      "execution_count": null,
      "outputs": [
        {
          "output_type": "stream",
          "text": [
            "['title', 'location_type', 'woeid', 'latt_long']\n"
          ],
          "name": "stdout"
        }
      ]
    },
    {
      "cell_type": "code",
      "metadata": {
        "id": "hzwzYD3vI1H1",
        "colab": {
          "base_uri": "https://localhost:8080/"
        },
        "outputId": "d5d5b58c-31bc-4f22-c629-9de792548eff"
      },
      "source": [
        "# Q3: extract the latitude (lat) and longitude (lng) from the dictionary\n",
        "#     Each value should be a float\n",
        "#     TIP: the dictionary key provides guidance on the order\n",
        "\n",
        "y=list(q1_1.values())[3]\n",
        "print(y)\n",
        "lat =float(y[0:9])\n",
        "lng =float(y[10:])\n",
        "print(lat)\n",
        "print(lng)\n",
        "\n",
        "print(type(lat))\n",
        "print(type(lng))\n",
        "\n",
        "\n"
      ],
      "execution_count": null,
      "outputs": [
        {
          "output_type": "stream",
          "text": [
            "42.358631,-71.056702\n",
            "42.358631\n",
            "-71.056702\n",
            "<class 'float'>\n",
            "<class 'float'>\n"
          ],
          "name": "stdout"
        }
      ]
    },
    {
      "cell_type": "code",
      "metadata": {
        "id": "qUsFGz-4I1LU",
        "colab": {
          "base_uri": "https://localhost:8080/"
        },
        "outputId": "dcd57f74-feda-4ea4-b288-5fc8eaa70dc8"
      },
      "source": [
        "# Q4: using the dictionary key woeid from q1, keep only the even numbers from the id\n",
        "#     save the values as seperate entries in a list. Save this list as the variable q1_4\n",
        "\n",
        "u=list(q1_1.values())[2]\n",
        "v=[int(x) for x in str(u)]\n",
        "print(v)\n",
        "print(type(v))\n",
        "\n",
        "num=[]\n",
        "for q in v:\n",
        "  if q % 2==0:\n",
        "   num.append(q)\n",
        "q1_4=num\n",
        "print(q1_4)\n",
        "\n",
        "\n",
        "\n"
      ],
      "execution_count": null,
      "outputs": [
        {
          "output_type": "stream",
          "text": [
            "[2, 3, 6, 7, 1, 0, 5]\n",
            "<class 'list'>\n",
            "[2, 6, 0]\n"
          ],
          "name": "stdout"
        }
      ]
    },
    {
      "cell_type": "markdown",
      "metadata": {
        "id": "WhPv5Ew0Mq-k"
      },
      "source": [
        "# Question 2\n",
        "\n",
        "You have been provided a file that can be read in with the following code:\n",
        "\n",
        "```\n",
        "import pickle\n",
        "with open('q2.pkl', 'rb') as file:\n",
        "  jokes = pickle.load(file)\n",
        "```\n",
        "\n",
        "In your session, `jokes` is a list of dictionaries.  You will use this object to answer the questions below.\n",
        "\n",
        "> Hint:  If you are using Google Colab, you will need to upload the `q2.pkl` file in your gDrive or to the Colab Sesssion. "
      ]
    },
    {
      "cell_type": "code",
      "metadata": {
        "id": "Rf4paqi54LM1"
      },
      "source": [
        "import pickle\n",
        "with open('q2_updated.pkl', 'rb') as file:\n",
        "  jokes = pickle.load(file)"
      ],
      "execution_count": null,
      "outputs": []
    },
    {
      "cell_type": "code",
      "metadata": {
        "id": "ZbHfSisTMC8A"
      },
      "source": [
        "# Q1:  q2_1 should represent a set of the values from the categories key.\n",
        "print(jokes)\n",
        "print(type(jokes))\n",
        "\n",
        "a1=jokes[0]\n",
        "b1=list(a1.values())[1]\n",
        "c1=list(b1.values())[2][0]\n",
        "print(c1)\n",
        "print(type(c1))\n",
        "\n",
        "a2=jokes[1]\n",
        "b2=list(a2.values())[1]\n",
        "c2=list(b2.values())[2][0]\n",
        "print(c2)\n",
        "\n",
        "a3=jokes[2]\n",
        "b3=list(a3.values())[1]\n",
        "c3=list(b3.values())[2][0]\n",
        "print(c3)\n",
        "\n",
        "a4=jokes[3]\n",
        "b4=list(a4.values())[1]\n",
        "c4=list(b4.values())[2][0]\n",
        "print(c4)\n",
        "\n",
        "a5=jokes[4]\n",
        "b5=list(a5.values())[1]\n",
        "c5=list(b5.values())[2][0]\n",
        "print(c5)\n",
        "\n",
        "d6=(c1,c2,c3,c4,c5)\n",
        "q2_1=set(d6)\n",
        "print(q2_1)\n",
        "print(type(q2_1))\n",
        "\n",
        "# a lot of work...\n",
        "\n",
        "\n",
        "\n",
        "\n",
        "\n",
        "\n"
      ],
      "execution_count": null,
      "outputs": []
    },
    {
      "cell_type": "code",
      "metadata": {
        "colab": {
          "base_uri": "https://localhost:8080/"
        },
        "id": "ARDqun94-edp",
        "outputId": "44bf8110-b933-4d25-a780-cd8c9c4bd7fd"
      },
      "source": [
        "# Q2: What is the largest value (max) across the key id.  Save this value as q2_2\n",
        "#q2_2 = \n",
        "id_1=list(b1.values())[0]\n",
        "id_2=list(b2.values())[0]\n",
        "id_3=list(b3.values())[0]\n",
        "id_4=list(b4.values())[0]\n",
        "id_5=list(b5.values())[0]\n",
        "num=[id_1,id_2,id_3,id_4,id_5]\n",
        "print(num)\n",
        "print(type(num))\n",
        "q2_2=max(num)\n",
        "\n",
        "print(q2_2)\n",
        "\n",
        "\n",
        "\n",
        "\n"
      ],
      "execution_count": null,
      "outputs": [
        {
          "output_type": "stream",
          "text": [
            "[100, 150, 250, 480, 490]\n",
            "<class 'list'>\n",
            "490\n"
          ],
          "name": "stdout"
        }
      ]
    },
    {
      "cell_type": "code",
      "metadata": {
        "id": "NDBlwbi3N0gY",
        "colab": {
          "base_uri": "https://localhost:8080/"
        },
        "outputId": "67836cde-5b04-4af3-f3fd-658e6d51c716"
      },
      "source": [
        "# Q3: Each entry of jokes has a joke key.  This is a sentence pulled randomly from an online jokes api.  \n",
        "#     Remove the following characters '.,!' (punctuation present in these jokes)\n",
        "#     Make the text lower case.\n",
        "#     Add each word in each entry as a key to a dictionary you store in the variable q2_3 below.\n",
        "#     The value for each key should represent the total number of times the word appeared across the jokes object\n",
        "#     Summary: q2_3 should be a dictionary of word:count pairs, where count is the number of times the word appeared\n",
        "#              across all entries of jokes in the joke key\n",
        "#     \n",
        "\n",
        "\n",
        "s1=list(b1.values())[1]\n",
        "s2=list(b2.values())[1]\n",
        "s3=list(b3.values())[1]\n",
        "s4=list(b4.values())[1]\n",
        "s5=list(b5.values())[1]\n",
        "#print(sen1)\n",
        "#print(sen1,sen2,sen3,sen4,sen5)\n",
        "\n",
        "punct=('!',',','.')\n",
        "for i in punct:\n",
        "  s1=s1.replace(i,'')\n",
        "  s2=s2.replace(i,'')\n",
        "  s3=s3.replace(i,'')\n",
        "  s4=s4.replace(i,'')\n",
        "  s5=s5.replace(i,'')\n",
        "\n",
        "#lower!\n",
        "s1l=s1.lower()\n",
        "s2l=s2.lower()\n",
        "s3l=s3.lower()\n",
        "s4l=s4.lower()\n",
        "s5l=s5.lower()\n",
        "\n",
        "#split\n",
        "s1_w=s1l.split()\n",
        "#print(s1_w)\n",
        "s2_w=s2l.split()\n",
        "#print(s2_w)\n",
        "s3_w=s3l.split()\n",
        "#print(s3_w)\n",
        "s4_w=s4l.split()\n",
        "#print(s4_w)\n",
        "s5_w=s5l.split()\n",
        "#print(s5_w)\n",
        "\n",
        "s_all_list=s1_w+s2_w+s3_w+s4_w+s5_w\n",
        "#print(s_all_list)\n",
        "\n",
        "\n",
        "\n",
        "#create a D\n",
        "q2_3={}\n",
        "\n",
        "for keys in s_all_list:\n",
        "  q2_3[keys]=q2_3.get(keys,0)+1\n",
        "print(q2_3)\n",
        "\n",
        "\n",
        "\n",
        "\n",
        "\n"
      ],
      "execution_count": null,
      "outputs": [
        {
          "output_type": "stream",
          "text": [
            "{'chuck': 4, 'norris': 4, 'grinds': 1, 'his': 3, 'coffee': 1, 'with': 2, 'teeth': 1, 'and': 1, 'boils': 1, 'the': 3, 'water': 1, 'own': 1, 'rage': 1, 'superman': 1, 'once': 1, 'watched': 1, 'an': 1, 'episode': 1, 'of': 1, 'walker': 1, 'texas': 1, 'ranger': 1, 'he': 1, 'then': 1, 'cried': 1, 'himself': 1, 'to': 3, 'sleep': 1, 'truth': 1, 'will': 1, 'set': 1, 'you': 2, 'free': 1, 'unless': 1, 'has': 1, 'in': 1, 'which': 1, 'case': 1, 'forget': 1, 'it': 1, 'buddy': 1, 'class': 1, 'object': 1, 'inherits': 1, 'from': 1, \"doesn't\": 1, 'need': 1, 'use': 1, 'ajax': 1, 'because': 1, 'pages': 1, 'are': 1, 'too': 1, 'afraid': 1, 'postback': 1, 'anyways': 1}\n"
          ],
          "name": "stdout"
        }
      ]
    },
    {
      "cell_type": "code",
      "metadata": {
        "id": "zfP-5zIf-dMF"
      },
      "source": [
        ""
      ],
      "execution_count": null,
      "outputs": []
    },
    {
      "cell_type": "markdown",
      "metadata": {
        "id": "Y1PXAz_7y2ze"
      },
      "source": [
        "# Question 3\n",
        "\n",
        "Write a function called `guessing_game` that satisfies the following requirements:\n",
        "\n",
        "1.  When the function is called, the user is prompted to guess a word\n",
        "1.  The function, internally, will randomly choose a word for the game.  The population of word (the word list) is shown below.\n",
        "1.  If the user does not guess the proper word, the user should be prompted again to try another guess\n",
        "1.  The user is only allowed 3 guesses.  If the user fails to guess the chosen word after 3 attempts, the message `Sorry, the game is over.` should be printed to the screen.\n",
        "1.  If the user enters a word not part of the list below, the message `That word is not part of the vocabulary.` should be printed to the screen.  However, if this situation occurs during the 3rd failed guess, only the message in step 4 should be printed.\n",
        "1.  If the user correctly guesses the word, the message `Correct! Well Done.` should be printed on the screen.\n",
        "1.  If a string is not input by the user, the function should print `You did not guess a string, Game Over!` and end the game. You can use `string` package as in `string.ascii_letters` to guarantee that the entry is a string semantically.\n",
        "\n",
        "\n",
        "\n",
        "The word list that should be used by the function:\n",
        "\n",
        "- `numpy`\n",
        "- `seaborn`\n",
        "- `pandas`\n",
        "- `pantab`\n",
        "- `spacy`\n",
        "- `requests`\n",
        "- `tensorflow`\n",
        "\n"
      ]
    },
    {
      "cell_type": "code",
      "metadata": {
        "id": "YdSB88Mi3r3f"
      },
      "source": [
        "# build your function below\n",
        "import numpy as np\n",
        "import random\n",
        "import string\n",
        "word_list=['numpy','seaborn','pandas','pantab','spacy','requests','tensorflow']\n",
        "#print(word_list)\n",
        "\n",
        "def isstring(input_string):\n",
        "  for i in input_string:\n",
        "    if i not in string.ascii_letters:\n",
        "       return False\n",
        "    else: \n",
        "       return True\n",
        "\n",
        "\n",
        "\n",
        "\n",
        "def guessing_game():\n",
        "  np.random.seed(765)\n",
        "  i=1\n",
        "  b=range(1,4,1)\n",
        "  actual=random.choice(word_list)\n",
        "  for i in b:\n",
        "   guess=input(\"Guess a word from the list:\")\n",
        "   if i <= 3:\n",
        "     if isstring(input()) == False:\n",
        "      print(\"You did not guess a string, Game Over!\")\n",
        "      return\n",
        "     else:\n",
        "      if (guess in word_list):\n",
        "       if guess == actual:\n",
        "        print(\"Correct! Well Done\")\n",
        "        return\n",
        "       elif i < 3:\n",
        "        print(\"Try other words\")\n",
        "        i=i+1\n",
        "       else:\n",
        "        print(\"Sorry, the game is over.\")\n",
        "        i=i+1\n",
        "      elif i<3:\n",
        "       print(\"That word is not part of the vocabulary.\")\n",
        "       i=i+1\n",
        "      else:\n",
        "        print(\"Sorry, the game is over.\")\n",
        "\n",
        "\n",
        "\n",
        "\n",
        "\n",
        "    \n",
        "     \n",
        "\n",
        "\n",
        "\n",
        "\n",
        "\n",
        "\n"
      ],
      "execution_count": 4,
      "outputs": []
    },
    {
      "cell_type": "code",
      "metadata": {
        "colab": {
          "base_uri": "https://localhost:8080/"
        },
        "id": "jq84ln38UERz",
        "outputId": "d2ea4830-5e0e-4694-ed0c-b739116ae31d"
      },
      "source": [
        "guessing_game()\n"
      ],
      "execution_count": 5,
      "outputs": [
        {
          "output_type": "stream",
          "text": [
            "Guess a word from the list:(((\n",
            "(((\n",
            "You did not guess a string, Game Over!\n"
          ],
          "name": "stdout"
        }
      ]
    },
    {
      "cell_type": "code",
      "metadata": {
        "id": "BUqvuggPgq6o"
      },
      "source": [
        ""
      ],
      "execution_count": null,
      "outputs": []
    }
  ]
}